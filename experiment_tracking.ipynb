{
 "cells": [
  {
   "attachments": {},
   "cell_type": "markdown",
   "metadata": {},
   "source": [
    "## Introduction\n",
    "\n",
    "In this article we are going to look into how you can track various experiments using Tensorboard in PyTorch and use the tracking data to tune hyperparameters. First let us see what is experiment tracking and hyperparameter tuning. \n",
    "\n",
    "### Experiment Tracking\n",
    "\n",
    "Experiment tracking refers to the process of collecting and organizing data related to machine learning experiments. It involves logging and monitoring various aspects of an experiment, such as the model architecture, hyperparameters, training progress, evaluation metrics, and visualizations.\n",
    "\n",
    "Experiment tracking helps researchers and practitioners keep a record of their experiments, making it easier to reproduce and compare results. It enables better understanding of the experiment's behavior, aids in debugging, and facilitates collaboration within teams.\n",
    "\n",
    "One popular tool for experiment tracking is TensorBoard, which is a web-based visualization tool provided by TensorFlow. While originally developed for TensorFlow, it can also be used with PyTorch, another popular deep learning framework.\n",
    "\n",
    "TensorBoard provides a user-friendly interface to explore and analyze experiment data. It allows visualizing metrics like loss and accuracy over time, examining the model graph, visualizing histograms of weights and biases, and displaying images and embeddings. It also supports interactive visualizations such as 3D embeddings and custom plots.\n",
    "\n",
    "By using TensorBoard, you can gain insights into your experiments, compare different models or hyperparameter settings, and make informed decisions for improving your machine learning models.\n",
    "\n",
    "### Hyper Parameter Tuning\n",
    "Hyperparameter tuning, also known as hyperparameter optimization, is the process of finding the optimal values for the hyperparameters of a machine learning model. Hyperparameters are configuration settings that are not learned from the data but are set prior to training and affect the learning process.\n",
    "\n",
    "Examples of hyperparameters include learning rate, batch size, number of hidden layers, number of units in each layer, regularization parameters, and activation functions. The choice of hyperparameters can significantly impact the performance and generalization ability of a model.\n",
    "\n",
    "Hyperparameter tuning is crucial because selecting appropriate values for hyperparameters can lead to better model performance. It involves systematically searching through a predefined space of possible hyperparameter values to find the combination that yields the best results.\n",
    "\n",
    "There are several strategies for hyperparameter tuning, including:\n",
    "\n",
    "1. Manual search: This involves manually selecting hyperparameter values based on prior knowledge, intuition, or trial and error. It is a simple approach but can be time-consuming and may not yield the best results.\n",
    "2. Grid search: Grid search involves defining a grid of possible hyperparameter values and exhaustively searching through all combinations. It evaluates and compares models trained with each combination of hyperparameters. While it guarantees finding the best hyperparameter values within the defined grid, it can be computationally expensive when the search space is large.\n",
    "3. Random search: Random search selects hyperparameter values randomly from a predefined distribution. It performs a specified number of random searches and evaluates the models trained with each set of hyperparameters. Random search is more efficient than grid search when the search space is large and it doesn't require exhaustive evaluation of all combinations.\n",
    "4. Bayesian optimization: Bayesian optimization is an advanced technique that uses probabilistic models to predict the performance of different hyperparameter settings. It iteratively explores the search space by evaluating a few carefully selected points and updating the probabilistic model. Bayesian optimization can be more efficient than random search or grid search when the search space is large and expensive to evaluate.\n",
    "5. Automated techniques: There are automated hyperparameter tuning techniques like genetic algorithms, evolutionary algorithms, and reinforcement learning-based approaches that aim to optimize hyperparameters automatically. These techniques use optimization algorithms to search the hyperparameter space based on fitness evaluation.\n",
    "\n",
    "During hyperparameter tuning, it is common to use evaluation metrics such as accuracy, precision, recall, or mean squared error to assess the performance of the models trained with different hyperparameter values.\n",
    "\n",
    "By tuning hyperparameters effectively, you can improve the performance and generalization of your machine learning models, leading to better results on unseen data. Experiment tracking tools like TensorBoard can be valuable in this process, as they allow you to monitor and compare the performance of different hyperparameter settings over time.\n",
    "\n",
    "For this demonstration we will be using the simple but expensive grid search. In the later blogs I will show you how we can implement the other hyperparameter tuning algorithms. \n",
    "\n",
    "We will use the FashionMNIST dataset and tune the hyperparamters of our custom VGG model using Grid Search. \n",
    "\n",
    "Let's begin."
   ]
  },
  {
   "attachments": {},
   "cell_type": "markdown",
   "metadata": {},
   "source": [
    "## Install and Import Dependencies"
   ]
  },
  {
   "cell_type": "code",
   "execution_count": 38,
   "metadata": {},
   "outputs": [
    {
     "name": "stdout",
     "output_type": "stream",
     "text": [
      "Note: you may need to restart the kernel to use updated packages.\n"
     ]
    }
   ],
   "source": [
    "%pip install -q torchinfo torchmetrics tensorboard"
   ]
  },
  {
   "cell_type": "code",
   "execution_count": 39,
   "metadata": {},
   "outputs": [],
   "source": [
    "import torch\n",
    "import torchvision\n",
    "import os\n",
    "from torchvision.transforms import Resize, Compose, ToTensor\n",
    "import matplotlib.pyplot as plt\n",
    "from torchinfo import summary\n",
    "import torchmetrics\n",
    "from tqdm.auto import tqdm\n",
    "from torch.utils.tensorboard import SummaryWriter\n",
    "\n",
    "device = \"cuda\" if torch.cuda.is_available() else \"cpu\""
   ]
  },
  {
   "attachments": {},
   "cell_type": "markdown",
   "metadata": {},
   "source": [
    "## Load the Dataset and Dataloader"
   ]
  },
  {
   "cell_type": "code",
   "execution_count": 41,
   "metadata": {},
   "outputs": [],
   "source": [
    "BATCH_SIZE = 64\n",
    "\n",
    "if not os.path.exists(\"data\"): os.mkdir(\"data\")\n",
    "\n",
    "train_transform = Compose([Resize((64,64)),\n",
    "                           ToTensor()\n",
    "                           ])\n",
    "test_transform = Compose([Resize((64,64)),\n",
    "                          ToTensor()\n",
    "                          ])\n",
    "\n",
    "\n",
    "training_dataset = torchvision.datasets.FashionMNIST(root = \"data\",\n",
    "                                                     download = True,\n",
    "                                                     train = True,\n",
    "                                                     transform = train_transform)\n",
    "\n",
    "test_dataset = torchvision.datasets.FashionMNIST(root = \"data\",\n",
    "                                                 download = True,\n",
    "                                                 train = False,\n",
    "                                                 transform = test_transform)\n",
    "\n",
    "train_dataloader = torch.utils.data.DataLoader(training_dataset,\n",
    "                                          batch_size=BATCH_SIZE,\n",
    "                                          shuffle=True,\n",
    "                                          num_workers=2\n",
    "                                          )\n",
    "\n",
    "test_dataloader = torch.utils.data.DataLoader(test_dataset,\n",
    "                                              batch_size = BATCH_SIZE,\n",
    "                                              shuffle = False,\n",
    "                                              num_workers = 2\n",
    "                                              )"
   ]
  },
  {
   "attachments": {},
   "cell_type": "markdown",
   "metadata": {},
   "source": [
    "Let us see how many examples are there in the training set and the test set"
   ]
  },
  {
   "cell_type": "code",
   "execution_count": 42,
   "metadata": {},
   "outputs": [
    {
     "name": "stdout",
     "output_type": "stream",
     "text": [
      "Number of Images in test dataset is 10000\n",
      "Number of Images in training dataset is 60000\n"
     ]
    }
   ],
   "source": [
    "print(f\"Number of Images in test dataset is {len(test_dataset)}\")\n",
    "print(f\"Number of Images in training dataset is {len(training_dataset)}\")"
   ]
  },
  {
   "cell_type": "code",
   "execution_count": 43,
   "metadata": {},
   "outputs": [
    {
     "data": {
      "text/plain": [
       "<matplotlib.image.AxesImage at 0x1be925a4808>"
      ]
     },
     "execution_count": 43,
     "metadata": {},
     "output_type": "execute_result"
    },
    {
     "data": {
      "image/png": "[encoded data removed]",
      "text/plain": [
       "<Figure size 640x480 with 1 Axes>"
      ]
     },
     "metadata": {},
     "output_type": "display_data"
    }
   ],
   "source": [
    "plt.imshow(training_dataset[0][0].permute((1,2,0)), cmap = \"gray\")\n",
    "plt.axis(\"off\")"
   ]
  },
  {
   "attachments": {},
   "cell_type": "markdown",
   "metadata": {},
   "source": [
    "## Create a TinyVGG Model"
   ]
  },
  {
   "cell_type": "code",
   "execution_count": 44,
   "metadata": {},
   "outputs": [],
   "source": [
    "import torch.nn as nn\n",
    "\n",
    "class TinyVGG(nn.Module):\n",
    "    \"\"\"\n",
    "    A small VGG-like network for image classification.\n",
    "\n",
    "    Args:\n",
    "        in_channels (int): The number of input channels.\n",
    "        n_classes (int): The number of output classes.\n",
    "        hidden_units (int): The number of hidden units in each convolutional block.\n",
    "        n_conv_blocks (int): The number of convolutional blocks.\n",
    "        dropout (float): The dropout rate.\n",
    "    \"\"\"\n",
    "\n",
    "    def __init__(self, in_channels, n_classes, hidden_units, n_conv_blocks, dropout):\n",
    "        super().__init__()\n",
    "        self.in_channels = in_channels\n",
    "        self.out_features = n_classes\n",
    "        self.dropout = dropout\n",
    "        self.hidden_units = hidden_units\n",
    "\n",
    "        # Input block\n",
    "        self.input_block = nn.Sequential(\n",
    "            nn.Conv2d(in_channels=in_channels, out_channels=hidden_units, kernel_size=3, padding=0, stride=1),\n",
    "            nn.Dropout(dropout),\n",
    "            nn.ReLU(),\n",
    "        )\n",
    "\n",
    "        # Convolutional blocks\n",
    "        self.conv_blocks = nn.ModuleList([\n",
    "            nn.Sequential(\n",
    "                nn.Conv2d(in_channels=hidden_units, out_channels=hidden_units, kernel_size=3, padding=0, stride=1),\n",
    "                nn.Dropout(dropout),\n",
    "                nn.ReLU(),\n",
    "                nn.MaxPool2d(kernel_size=2, stride=2),\n",
    "            ) for _ in range(n_conv_blocks)\n",
    "        ])\n",
    "\n",
    "        # Classifier\n",
    "        self.classifier = nn.Sequential(\n",
    "            nn.Flatten(),\n",
    "            nn.LazyLinear(out_features=256),\n",
    "            nn.Dropout(dropout),\n",
    "            nn.Linear(in_features=256, out_features=64),\n",
    "            nn.Linear(in_features=64, out_features=n_classes),\n",
    "        )\n",
    "\n",
    "    def forward(self, x):\n",
    "        \"\"\"\n",
    "        Forward pass of the network.\n",
    "\n",
    "        Args:\n",
    "            x (torch.Tensor): The input tensor.\n",
    "\n",
    "        Returns:\n",
    "            torch.Tensor: The output tensor.\n",
    "        \"\"\"\n",
    "\n",
    "        x = self.input_block(x)\n",
    "        for conv_block in self.conv_blocks:\n",
    "            x = conv_block(x)\n",
    "        x = self.classifier(x)\n",
    "        return x"
   ]
  },
  {
   "cell_type": "code",
   "execution_count": 45,
   "metadata": {},
   "outputs": [
    {
     "data": {
      "text/plain": [
       "==========================================================================================\n",
       "Layer (type:depth-idx)                   Output Shape              Param #\n",
       "==========================================================================================\n",
       "TinyVGG                                  [1, 10]                   --\n",
       "├─Sequential: 1-1                        [1, 10]                   --\n",
       "│    └─Sequential: 2-1                   [1, 64, 62, 62]           --\n",
       "│    │    └─Conv2d: 3-1                  [1, 64, 62, 62]           640\n",
       "│    │    └─Dropout: 3-2                 [1, 64, 62, 62]           --\n",
       "│    │    └─ReLU: 3-3                    [1, 64, 62, 62]           --\n",
       "│    └─Sequential: 2-2                   [1, 64, 30, 30]           --\n",
       "│    │    └─Conv2d: 3-4                  [1, 64, 60, 60]           36,928\n",
       "│    │    └─Dropout: 3-5                 [1, 64, 60, 60]           --\n",
       "│    │    └─ReLU: 3-6                    [1, 64, 60, 60]           --\n",
       "│    │    └─MaxPool2d: 3-7               [1, 64, 30, 30]           --\n",
       "│    └─Sequential: 2-3                   [1, 64, 14, 14]           (recursive)\n",
       "│    │    └─Conv2d: 3-8                  [1, 64, 28, 28]           (recursive)\n",
       "│    │    └─Dropout: 3-9                 [1, 64, 28, 28]           --\n",
       "│    │    └─ReLU: 3-10                   [1, 64, 28, 28]           --\n",
       "│    │    └─MaxPool2d: 3-11              [1, 64, 14, 14]           --\n",
       "│    └─Sequential: 2-4                   [1, 64, 6, 6]             (recursive)\n",
       "│    │    └─Conv2d: 3-12                 [1, 64, 12, 12]           (recursive)\n",
       "│    │    └─Dropout: 3-13                [1, 64, 12, 12]           --\n",
       "│    │    └─ReLU: 3-14                   [1, 64, 12, 12]           --\n",
       "│    │    └─MaxPool2d: 3-15              [1, 64, 6, 6]             --\n",
       "│    └─Sequential: 2-5                   [1, 10]                   --\n",
       "│    │    └─Flatten: 3-16                [1, 2304]                 --\n",
       "│    │    └─Linear: 3-17                 [1, 256]                  590,080\n",
       "│    │    └─Dropout: 3-18                [1, 256]                  --\n",
       "│    │    └─Linear: 3-19                 [1, 64]                   16,448\n",
       "│    │    └─Linear: 3-20                 [1, 10]                   650\n",
       "==========================================================================================\n",
       "Total params: 644,746\n",
       "Trainable params: 644,746\n",
       "Non-trainable params: 0\n",
       "Total mult-adds (M): 170.28\n",
       "==========================================================================================\n",
       "Input size (MB): 0.02\n",
       "Forward/backward pass size (MB): 4.29\n",
       "Params size (MB): 2.58\n",
       "Estimated Total Size (MB): 6.88\n",
       "=========================================================================================="
      ]
     },
     "execution_count": 45,
     "metadata": {},
     "output_type": "execute_result"
    }
   ],
   "source": [
    "model =  TinyVGG(in_channels = 1,\n",
    "                 n_classes = len(training_dataset.classes),\n",
    "                 hidden_units = 64,\n",
    "                 n_conv_blocks = 3,\n",
    "                 dropout = 0.1).to(device)\n",
    "summary(model, [1,64,64], batch_dim = 1)"
   ]
  },
  {
   "cell_type": "code",
   "execution_count": 46,
   "metadata": {},
   "outputs": [],
   "source": [
    "\n",
    "def train_step(dataloader, model, optimizer, criterion, device, train_acc_metric):\n",
    "    \"\"\"\n",
    "    Perform a single training step.\n",
    "\n",
    "    Args:\n",
    "        dataloader (torch.utils.data.DataLoader): The dataloader for the training data.\n",
    "        model (torch.nn.Module): The model to train.\n",
    "        optimizer (torch.optim.Optimizer): The optimizer for the model.\n",
    "        criterion (torch.nn.Module): The loss function for the model.\n",
    "        device (torch.device): The device to train the model on.\n",
    "        train_acc_metric (torchmetrics.Accuracy): The accuracy metric for the model.\n",
    "\n",
    "    Returns:\n",
    "        The accuracy of the model on the training data.\n",
    "    \"\"\"\n",
    "\n",
    "    for (X, y) in tqdm.tqdm(dataloader):\n",
    "        # Move the data to the device.\n",
    "        X = X.to(device)\n",
    "        y = y.to(device)\n",
    "\n",
    "        # Forward pass.\n",
    "        y_preds = model(X)\n",
    "\n",
    "        # Calculate the loss.\n",
    "        loss = criterion(y_preds, y)\n",
    "\n",
    "        # Calculate the accuracy.\n",
    "        train_acc_metric.update(y_preds, y)\n",
    "\n",
    "        # Backpropagate the loss.\n",
    "        loss.backward()\n",
    "\n",
    "        # Update the parameters.\n",
    "        optimizer.step()\n",
    "\n",
    "        # Zero the gradients.\n",
    "        optimizer.zero_grad()\n",
    "\n",
    "    return train_acc_metric.compute()\n"
   ]
  },
  {
   "cell_type": "code",
   "execution_count": 47,
   "metadata": {},
   "outputs": [],
   "source": [
    "def test_step(dataloader, model, device, test_acc_metric):\n",
    "    \"\"\"\n",
    "    Perform a single test step.\n",
    "\n",
    "    Args:\n",
    "        dataloader (torch.utils.data.DataLoader): The dataloader for the test data.\n",
    "        model (torch.nn.Module): The model to test.\n",
    "        device (torch.device): The device to test the model on.\n",
    "        test_acc_metric (torchmetrics.Accuracy): The accuracy metric for the model.\n",
    "\n",
    "    Returns:\n",
    "        The accuracy of the model on the test data.\n",
    "    \"\"\"\n",
    "\n",
    "    for (X, y) in tqdm.tqdm(dataloader):\n",
    "        # Move the data to the device.\n",
    "        X = X.to(device)\n",
    "        y = y.to(device)\n",
    "\n",
    "        # Forward pass.\n",
    "        y_preds = model(X)\n",
    "\n",
    "        # Calculate the accuracy.\n",
    "        test_acc_metric.update(y_preds, y)\n",
    "\n",
    "    return test_acc_metric.compute()\n",
    "\n"
   ]
  },
  {
   "cell_type": "code",
   "execution_count": 48,
   "metadata": {},
   "outputs": [],
   "source": [
    "optimizer = torch.optim.Adam(params = model.parameters(), lr = 0.001)\n",
    "criterion = torch.nn.CrossEntropyLoss()"
   ]
  },
  {
   "attachments": {},
   "cell_type": "markdown",
   "metadata": {},
   "source": [
    "Here, there are several hyperparameters as you can see - Learning Rate, Number of Epochs, type of optimizer, number of convolution layers, dropout and number of hidden units. We can first fix the learning rate and number of epoch and try to find the best number of convolution layers, dropout and hidden units. Once we have those we can then tune the number of epochs and learning rate. "
   ]
  },
  {
   "cell_type": "code",
   "execution_count": 49,
   "metadata": {},
   "outputs": [],
   "source": [
    "\n",
    "EPOCHS = 10\n",
    "LEARNING_RATE = 0.001"
   ]
  },
  {
   "cell_type": "code",
   "execution_count": 50,
   "metadata": {},
   "outputs": [],
   "source": [
    "from datetime import datetime\n",
    "\n",
    "def create_writer(\n",
    "    experiment_name: str, model_name: str, conv_layers, dropout, hidden_units\n",
    ") -> SummaryWriter:\n",
    "    \"\"\"\n",
    "    Create a SummaryWriter object for logging the training and test results.\n",
    "\n",
    "    Args:\n",
    "        experiment_name (str): The name of the experiment.\n",
    "        model_name (str): The name of the model.\n",
    "        conv_layers (int): The number of convolutional layers in the model.\n",
    "        dropout (float): The dropout rate used in the model.\n",
    "        hidden_units (int): The number of hidden units in the model.\n",
    "\n",
    "    Returns:\n",
    "        SummaryWriter: The SummaryWriter object.\n",
    "    \"\"\"\n",
    "\n",
    "    timestamp = str(datetime.now().strftime(\"%d-%m-%Y_%H-%M-%S\"))\n",
    "    log_dir = os.path.join(\n",
    "        \"runs\",\n",
    "        timestamp,\n",
    "        experiment_name,\n",
    "        model_name,\n",
    "        f\"{conv_layers}\",\n",
    "        f\"{dropout}\",\n",
    "        f\"{hidden_units}\",\n",
    "    ).replace(\"\\\\\", \"/\")\n",
    "    return SummaryWriter(log_dir=log_dir)"
   ]
  },
  {
   "attachments": {},
   "cell_type": "markdown",
   "metadata": {},
   "source": [
    "## Hyper Parameter Tuning"
   ]
  },
  {
   "cell_type": "code",
   "execution_count": 51,
   "metadata": {},
   "outputs": [
    {
     "name": "stdout",
     "output_type": "stream",
     "text": [
      "\n",
      " Tuning Hyper Parameters || Conv Layers: 2 || Dropout: 0.1 || Hidden Units: 32 \n",
      "\n"
     ]
    },
    {
     "name": "stderr",
     "output_type": "stream",
     "text": [
      "100%|██████████| 938/938 [00:10<00:00, 89.13it/s] \n"
     ]
    },
    {
     "name": "stdout",
     "output_type": "stream",
     "text": [
      "train_acc = 0.8325999975204468\n"
     ]
    },
    {
     "name": "stderr",
     "output_type": "stream",
     "text": [
      "100%|██████████| 157/157 [00:02<00:00, 76.67it/s] \n"
     ]
    },
    {
     "name": "stdout",
     "output_type": "stream",
     "text": [
      "test_acc = 0.862500011920929\n"
     ]
    },
    {
     "name": "stderr",
     "output_type": "stream",
     "text": [
      "100%|██████████| 938/938 [00:10<00:00, 91.80it/s] \n"
     ]
    },
    {
     "name": "stdout",
     "output_type": "stream",
     "text": [
      "train_acc = 0.8614083528518677\n"
     ]
    },
    {
     "name": "stderr",
     "output_type": "stream",
     "text": [
      "100%|██████████| 157/157 [00:02<00:00, 77.59it/s] \n"
     ]
    },
    {
     "name": "stdout",
     "output_type": "stream",
     "text": [
      "test_acc = 0.8751999735832214\n"
     ]
    },
    {
     "name": "stderr",
     "output_type": "stream",
     "text": [
      "100%|██████████| 938/938 [00:10<00:00, 91.45it/s] \n"
     ]
    },
    {
     "name": "stdout",
     "output_type": "stream",
     "text": [
      "train_acc = 0.8762277960777283\n"
     ]
    },
    {
     "name": "stderr",
     "output_type": "stream",
     "text": [
      "100%|██████████| 157/157 [00:02<00:00, 75.34it/s] \n"
     ]
    },
    {
     "name": "stdout",
     "output_type": "stream",
     "text": [
      "test_acc = 0.8844333291053772\n"
     ]
    },
    {
     "name": "stderr",
     "output_type": "stream",
     "text": [
      "100%|██████████| 938/938 [00:10<00:00, 91.48it/s] \n"
     ]
    },
    {
     "name": "stdout",
     "output_type": "stream",
     "text": [
      "train_acc = 0.8858208060264587\n"
     ]
    },
    {
     "name": "stderr",
     "output_type": "stream",
     "text": [
      "100%|██████████| 157/157 [00:02<00:00, 78.04it/s] \n"
     ]
    },
    {
     "name": "stdout",
     "output_type": "stream",
     "text": [
      "test_acc = 0.8885250091552734\n"
     ]
    },
    {
     "name": "stderr",
     "output_type": "stream",
     "text": [
      "100%|██████████| 938/938 [00:10<00:00, 92.42it/s] \n"
     ]
    },
    {
     "name": "stdout",
     "output_type": "stream",
     "text": [
      "train_acc = 0.8926533460617065\n"
     ]
    },
    {
     "name": "stderr",
     "output_type": "stream",
     "text": [
      "100%|██████████| 157/157 [00:02<00:00, 77.00it/s] \n"
     ]
    },
    {
     "name": "stdout",
     "output_type": "stream",
     "text": [
      "test_acc = 0.8917199969291687\n"
     ]
    },
    {
     "name": "stderr",
     "output_type": "stream",
     "text": [
      "100%|██████████| 938/938 [00:10<00:00, 92.91it/s] \n"
     ]
    },
    {
     "name": "stdout",
     "output_type": "stream",
     "text": [
      "train_acc = 0.8980333209037781\n"
     ]
    },
    {
     "name": "stderr",
     "output_type": "stream",
     "text": [
      "100%|██████████| 157/157 [00:02<00:00, 76.99it/s] \n"
     ]
    },
    {
     "name": "stdout",
     "output_type": "stream",
     "text": [
      "test_acc = 0.8946499824523926\n"
     ]
    },
    {
     "name": "stderr",
     "output_type": "stream",
     "text": [
      "100%|██████████| 938/938 [00:10<00:00, 92.50it/s] \n"
     ]
    },
    {
     "name": "stdout",
     "output_type": "stream",
     "text": [
      "train_acc = 0.9025428295135498\n"
     ]
    },
    {
     "name": "stderr",
     "output_type": "stream",
     "text": [
      "100%|██████████| 157/157 [00:02<00:00, 76.34it/s] \n"
     ]
    },
    {
     "name": "stdout",
     "output_type": "stream",
     "text": [
      "test_acc = 0.8966857194900513\n"
     ]
    },
    {
     "name": "stderr",
     "output_type": "stream",
     "text": [
      "100%|██████████| 938/938 [00:10<00:00, 92.55it/s] \n"
     ]
    },
    {
     "name": "stdout",
     "output_type": "stream",
     "text": [
      "train_acc = 0.9064124822616577\n"
     ]
    },
    {
     "name": "stderr",
     "output_type": "stream",
     "text": [
      "100%|██████████| 157/157 [00:02<00:00, 77.62it/s] \n"
     ]
    },
    {
     "name": "stdout",
     "output_type": "stream",
     "text": [
      "test_acc = 0.8982250094413757\n"
     ]
    },
    {
     "name": "stderr",
     "output_type": "stream",
     "text": [
      "100%|██████████| 938/938 [00:10<00:00, 92.29it/s] \n"
     ]
    },
    {
     "name": "stdout",
     "output_type": "stream",
     "text": [
      "train_acc = 0.9097962975502014\n"
     ]
    },
    {
     "name": "stderr",
     "output_type": "stream",
     "text": [
      "100%|██████████| 157/157 [00:02<00:00, 77.96it/s] \n"
     ]
    },
    {
     "name": "stdout",
     "output_type": "stream",
     "text": [
      "test_acc = 0.8989889025688171\n"
     ]
    },
    {
     "name": "stderr",
     "output_type": "stream",
     "text": [
      "100%|██████████| 938/938 [00:10<00:00, 92.84it/s] \n"
     ]
    },
    {
     "name": "stdout",
     "output_type": "stream",
     "text": [
      "train_acc = 0.9127333164215088\n"
     ]
    },
    {
     "name": "stderr",
     "output_type": "stream",
     "text": [
      "100%|██████████| 157/157 [00:02<00:00, 77.66it/s] \n"
     ]
    },
    {
     "name": "stdout",
     "output_type": "stream",
     "text": [
      "test_acc = 0.8992199897766113\n",
      "\n",
      " Tuning Hyper Parameters || Conv Layers: 2 || Dropout: 0.1 || Hidden Units: 64 \n",
      "\n"
     ]
    },
    {
     "name": "stderr",
     "output_type": "stream",
     "text": [
      "100%|██████████| 938/938 [00:18<00:00, 49.87it/s]\n"
     ]
    },
    {
     "name": "stdout",
     "output_type": "stream",
     "text": [
      "train_acc = 0.8479166626930237\n"
     ]
    },
    {
     "name": "stderr",
     "output_type": "stream",
     "text": [
      "100%|██████████| 157/157 [00:02<00:00, 63.93it/s] \n"
     ]
    },
    {
     "name": "stdout",
     "output_type": "stream",
     "text": [
      "test_acc = 0.8844000101089478\n"
     ]
    },
    {
     "name": "stderr",
     "output_type": "stream",
     "text": [
      "100%|██████████| 938/938 [00:18<00:00, 50.14it/s]\n"
     ]
    },
    {
     "name": "stdout",
     "output_type": "stream",
     "text": [
      "train_acc = 0.8754249811172485\n"
     ]
    },
    {
     "name": "stderr",
     "output_type": "stream",
     "text": [
      "100%|██████████| 157/157 [00:02<00:00, 63.76it/s] \n"
     ]
    },
    {
     "name": "stdout",
     "output_type": "stream",
     "text": [
      "test_acc = 0.8926500082015991\n"
     ]
    },
    {
     "name": "stderr",
     "output_type": "stream",
     "text": [
      "100%|██████████| 938/938 [00:18<00:00, 50.18it/s]\n"
     ]
    },
    {
     "name": "stdout",
     "output_type": "stream",
     "text": [
      "train_acc = 0.8885111212730408\n"
     ]
    },
    {
     "name": "stderr",
     "output_type": "stream",
     "text": [
      "100%|██████████| 157/157 [00:02<00:00, 63.24it/s] \n"
     ]
    },
    {
     "name": "stdout",
     "output_type": "stream",
     "text": [
      "test_acc = 0.8987666964530945\n"
     ]
    },
    {
     "name": "stderr",
     "output_type": "stream",
     "text": [
      "100%|██████████| 938/938 [00:18<00:00, 49.59it/s]\n"
     ]
    },
    {
     "name": "stdout",
     "output_type": "stream",
     "text": [
      "train_acc = 0.8973166942596436\n"
     ]
    },
    {
     "name": "stderr",
     "output_type": "stream",
     "text": [
      "100%|██████████| 157/157 [00:02<00:00, 63.97it/s] \n"
     ]
    },
    {
     "name": "stdout",
     "output_type": "stream",
     "text": [
      "test_acc = 0.9006249904632568\n"
     ]
    },
    {
     "name": "stderr",
     "output_type": "stream",
     "text": [
      "100%|██████████| 938/938 [00:18<00:00, 49.43it/s]\n"
     ]
    },
    {
     "name": "stdout",
     "output_type": "stream",
     "text": [
      "train_acc = 0.9044533371925354\n"
     ]
    },
    {
     "name": "stderr",
     "output_type": "stream",
     "text": [
      "100%|██████████| 157/157 [00:02<00:00, 64.45it/s] \n"
     ]
    },
    {
     "name": "stdout",
     "output_type": "stream",
     "text": [
      "test_acc = 0.9036800265312195\n"
     ]
    },
    {
     "name": "stderr",
     "output_type": "stream",
     "text": [
      "100%|██████████| 938/938 [00:18<00:00, 50.40it/s]\n"
     ]
    },
    {
     "name": "stdout",
     "output_type": "stream",
     "text": [
      "train_acc = 0.9098583459854126\n"
     ]
    },
    {
     "name": "stderr",
     "output_type": "stream",
     "text": [
      "100%|██████████| 157/157 [00:02<00:00, 63.45it/s] \n"
     ]
    },
    {
     "name": "stdout",
     "output_type": "stream",
     "text": [
      "test_acc = 0.9048166871070862\n"
     ]
    },
    {
     "name": "stderr",
     "output_type": "stream",
     "text": [
      "100%|██████████| 938/938 [00:18<00:00, 50.34it/s]\n"
     ]
    },
    {
     "name": "stdout",
     "output_type": "stream",
     "text": [
      "train_acc = 0.9143785834312439\n"
     ]
    },
    {
     "name": "stderr",
     "output_type": "stream",
     "text": [
      "100%|██████████| 157/157 [00:02<00:00, 63.84it/s] \n"
     ]
    },
    {
     "name": "stdout",
     "output_type": "stream",
     "text": [
      "test_acc = 0.9058571457862854\n"
     ]
    },
    {
     "name": "stderr",
     "output_type": "stream",
     "text": [
      "100%|██████████| 938/938 [00:18<00:00, 50.73it/s]\n"
     ]
    },
    {
     "name": "stdout",
     "output_type": "stream",
     "text": [
      "train_acc = 0.9182083606719971\n"
     ]
    },
    {
     "name": "stderr",
     "output_type": "stream",
     "text": [
      "100%|██████████| 157/157 [00:02<00:00, 63.69it/s] \n"
     ]
    },
    {
     "name": "stdout",
     "output_type": "stream",
     "text": [
      "test_acc = 0.9064750075340271\n"
     ]
    },
    {
     "name": "stderr",
     "output_type": "stream",
     "text": [
      "100%|██████████| 938/938 [00:18<00:00, 50.25it/s]\n"
     ]
    },
    {
     "name": "stdout",
     "output_type": "stream",
     "text": [
      "train_acc = 0.921583354473114\n"
     ]
    },
    {
     "name": "stderr",
     "output_type": "stream",
     "text": [
      "100%|██████████| 157/157 [00:02<00:00, 63.52it/s] \n"
     ]
    },
    {
     "name": "stdout",
     "output_type": "stream",
     "text": [
      "test_acc = 0.9067777991294861\n"
     ]
    },
    {
     "name": "stderr",
     "output_type": "stream",
     "text": [
      "100%|██████████| 938/938 [00:18<00:00, 49.94it/s]\n"
     ]
    },
    {
     "name": "stdout",
     "output_type": "stream",
     "text": [
      "train_acc = 0.9245749711990356\n"
     ]
    },
    {
     "name": "stderr",
     "output_type": "stream",
     "text": [
      "100%|██████████| 157/157 [00:02<00:00, 63.73it/s] \n"
     ]
    },
    {
     "name": "stdout",
     "output_type": "stream",
     "text": [
      "test_acc = 0.9075700044631958\n",
      "\n",
      " Tuning Hyper Parameters || Conv Layers: 2 || Dropout: 0.1 || Hidden Units: 128 \n",
      "\n"
     ]
    },
    {
     "name": "stderr",
     "output_type": "stream",
     "text": [
      "100%|██████████| 938/938 [00:34<00:00, 27.57it/s]\n"
     ]
    },
    {
     "name": "stdout",
     "output_type": "stream",
     "text": [
      "train_acc = 0.840399980545044\n"
     ]
    },
    {
     "name": "stderr",
     "output_type": "stream",
     "text": [
      "100%|██████████| 157/157 [00:03<00:00, 46.25it/s]\n"
     ]
    },
    {
     "name": "stdout",
     "output_type": "stream",
     "text": [
      "test_acc = 0.885200023651123\n"
     ]
    },
    {
     "name": "stderr",
     "output_type": "stream",
     "text": [
      "100%|██████████| 938/938 [00:33<00:00, 27.70it/s]\n"
     ]
    },
    {
     "name": "stdout",
     "output_type": "stream",
     "text": [
      "train_acc = 0.8692416548728943\n"
     ]
    },
    {
     "name": "stderr",
     "output_type": "stream",
     "text": [
      "100%|██████████| 157/157 [00:03<00:00, 46.68it/s]\n"
     ]
    },
    {
     "name": "stdout",
     "output_type": "stream",
     "text": [
      "test_acc = 0.8912000060081482\n"
     ]
    },
    {
     "name": "stderr",
     "output_type": "stream",
     "text": [
      "100%|██████████| 938/938 [00:33<00:00, 27.69it/s]\n"
     ]
    },
    {
     "name": "stdout",
     "output_type": "stream",
     "text": [
      "train_acc = 0.8827278017997742\n"
     ]
    },
    {
     "name": "stderr",
     "output_type": "stream",
     "text": [
      "100%|██████████| 157/157 [00:03<00:00, 46.66it/s]\n"
     ]
    },
    {
     "name": "stdout",
     "output_type": "stream",
     "text": [
      "test_acc = 0.8953666687011719\n"
     ]
    },
    {
     "name": "stderr",
     "output_type": "stream",
     "text": [
      " 67%|██████▋   | 631/938 [00:23<00:10, 28.80it/s]"
     ]
    }
   ],
   "source": [
    "\"\"\"\n",
    "This code performs hyperparameter tuning for a TinyVGG model.\n",
    "\n",
    "The hyperparameters that are tuned are the number of convolutional layers, the dropout rate, and the number of hidden units.\n",
    "\n",
    "The results of the hyperparameter tuning are logged to a TensorBoard file.\n",
    "\"\"\"\n",
    "\n",
    "experiment_number = 0\n",
    "\n",
    "# hyperparameters to tune\n",
    "hparams_config = {\n",
    "    \"n_conv_layers\": [1, 2, 3],\n",
    "    \"dropout\": [0.0, 0.25, 0.5],\n",
    "    \"hidden_units\": [128, 256, 512],\n",
    "}\n",
    "\n",
    "for n_conv_layers in hparams_config[\"n_conv_layers\"]:\n",
    "    for dropout in hparams_config[\"dropout\"]:\n",
    "        for hidden_units in hparams_config[\"hidden_units\"]:\n",
    "            experiment_number += 1\n",
    "            print(\n",
    "                f\"\\nTuning Hyper Parameters || Conv Layers: {n_conv_layers} || Dropout: {dropout} || Hidden Units: {hidden_units} \\n\"\n",
    "            )\n",
    "\n",
    "            # create the model\n",
    "            model = TinyVGG(\n",
    "                in_channels=1,\n",
    "                n_classes=len(training_dataset.classes),\n",
    "                hidden_units=hidden_units,\n",
    "                n_conv_blocks=n_conv_layers,\n",
    "                dropout=dropout,\n",
    "            ).to(device)\n",
    "\n",
    "            # create the optimizer and loss function\n",
    "            optimizer = torch.optim.Adam(params=model.parameters(), lr=LEARNING_RATE)\n",
    "            criterion = torch.nn.CrossEntropyLoss()\n",
    "\n",
    "            # create the accuracy metrics\n",
    "            train_acc_metric = torchmetrics.Accuracy(\n",
    "                task=\"multiclass\", num_classes=len(training_dataset.classes)\n",
    "            ).to(device)\n",
    "            test_acc_metric = torchmetrics.Accuracy(\n",
    "                task=\"multiclass\", num_classes=len(training_dataset.classes)\n",
    "            ).to(device)\n",
    "\n",
    "            # create the TensorBoard writer\n",
    "            writer = create_writer(\n",
    "                experiment_name=f\"{experiment_number}\",\n",
    "                model_name=\"tiny_vgg\",\n",
    "                conv_layers=n_conv_layers,\n",
    "                dropout=dropout,\n",
    "                hidden_units=hidden_units,\n",
    "            )\n",
    "\n",
    "            # train the model\n",
    "            for epoch in range(EPOCHS):\n",
    "                train_step(\n",
    "                    train_dataloader,\n",
    "                    model,\n",
    "                    optimizer,\n",
    "                    criterion,\n",
    "                    device,\n",
    "                    train_acc_metric,\n",
    "                )\n",
    "                test_step(test_dataloader, model, device, test_acc_metric)\n",
    "                writer.add_scalar(\n",
    "                    tag=\"Training Accuracy\",\n",
    "                    scalar_value=train_acc_metric.compute(),\n",
    "                    global_step=epoch,\n",
    "                )\n",
    "                writer.add_scalar(\n",
    "                    tag=\"Test Accuracy\",\n",
    "                    scalar_value=test_acc_metric.compute(),\n",
    "                    global_step=epoch,\n",
    "                )\n",
    "\n",
    "            # add the hyperparameters and metrics to TensorBoard\n",
    "            writer.add_hparams(\n",
    "                {\n",
    "                    \"conv_layers\": n_conv_layers,\n",
    "                    \"dropout\": dropout,\n",
    "                    \"hidden_units\": hidden_units,\n",
    "                },\n",
    "                {\n",
    "                    \"train_acc\": train_acc_metric.compute(),\n",
    "                    \"test_acc\": test_acc_metric.compute(),\n",
    "                },\n",
    "            )"
   ]
  },
  {
   "cell_type": "code",
   "execution_count": null,
   "metadata": {},
   "outputs": [],
   "source": [
    "model =  TinyVGG(in_channels = 1,\n",
    "n_classes = len(training_dataset.classes),\n",
    "hidden_units = 32,\n",
    "n_conv_blocks = 2,\n",
    "dropout = 0.2).to(device)\n",
    "\n",
    "optimizer = torch.optim.Adam(params = model.parameters(), lr = LEARNING_RATE)\n",
    "criterion = torch.nn.CrossEntropyLoss()\n",
    "\n",
    "train_acc_metric = torchmetrics.Accuracy(task=\"multiclass\",\n",
    "                                    num_classes=len(training_dataset.classes)).to(device)\n",
    "test_acc_metric = torchmetrics.Accuracy(task=\"multiclass\",\n",
    "                                    num_classes=len(training_dataset.classes)).to(device)\n",
    "\n"
   ]
  }
 ],
 "metadata": {
  "kernelspec": {
   "display_name": "pytorch",
   "language": "python",
   "name": "python3"
  },
  "language_info": {
   "codemirror_mode": {
    "name": "ipython",
    "version": 3
   },
   "file_extension": ".py",
   "mimetype": "text/x-python",
   "name": "python",
   "nbconvert_exporter": "python",
   "pygments_lexer": "ipython3",
   "version": "3.11.2"
  },
  "orig_nbformat": 4
 },
 "nbformat": 4,
 "nbformat_minor": 2
}
