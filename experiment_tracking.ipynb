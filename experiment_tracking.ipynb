{
 "cells": [
  {
   "attachments": {},
   "cell_type": "markdown",
   "metadata": {},
   "source": [
    "## Introduction\n",
    "\n",
    "In this article we are going to look into how you can track various experiments using Tensorboard in PyTorch and use the tracking data to tune hyperparameters. First let us see what is experiment tracking and hyperparameter tuning. \n",
    "\n",
    "### Experiment Tracking\n",
    "\n",
    "Experiment tracking refers to the process of collecting and organizing data related to machine learning experiments. It involves logging and monitoring various aspects of an experiment, such as the model architecture, hyperparameters, training progress, evaluation metrics, and visualizations.\n",
    "\n",
    "Experiment tracking helps researchers and practitioners keep a record of their experiments, making it easier to reproduce and compare results. It enables better understanding of the experiment's behavior, aids in debugging, and facilitates collaboration within teams.\n",
    "\n",
    "One popular tool for experiment tracking is TensorBoard, which is a web-based visualization tool provided by TensorFlow. While originally developed for TensorFlow, it can also be used with PyTorch, another popular deep learning framework.\n",
    "\n",
    "TensorBoard provides a user-friendly interface to explore and analyze experiment data. It allows visualizing metrics like loss and accuracy over time, examining the model graph, visualizing histograms of weights and biases, and displaying images and embeddings. It also supports interactive visualizations such as 3D embeddings and custom plots.\n",
    "\n",
    "By using TensorBoard, you can gain insights into your experiments, compare different models or hyperparameter settings, and make informed decisions for improving your machine learning models.\n",
    "\n",
    "### Hyper Parameter Tuning\n",
    "Hyperparameter tuning, also known as hyperparameter optimization, is the process of finding the optimal values for the hyperparameters of a machine learning model. Hyperparameters are configuration settings that are not learned from the data but are set prior to training and affect the learning process.\n",
    "\n",
    "Examples of hyperparameters include learning rate, batch size, number of hidden layers, number of units in each layer, regularization parameters, and activation functions. The choice of hyperparameters can significantly impact the performance and generalization ability of a model.\n",
    "\n",
    "Hyperparameter tuning is crucial because selecting appropriate values for hyperparameters can lead to better model performance. It involves systematically searching through a predefined space of possible hyperparameter values to find the combination that yields the best results.\n",
    "\n",
    "There are several strategies for hyperparameter tuning, including:\n",
    "\n",
    "1. Manual search: This involves manually selecting hyperparameter values based on prior knowledge, intuition, or trial and error. It is a simple approach but can be time-consuming and may not yield the best results.\n",
    "2. Grid search: Grid search involves defining a grid of possible hyperparameter values and exhaustively searching through all combinations. It evaluates and compares models trained with each combination of hyperparameters. While it guarantees finding the best hyperparameter values within the defined grid, it can be computationally expensive when the search space is large.\n",
    "3. Random search: Random search selects hyperparameter values randomly from a predefined distribution. It performs a specified number of random searches and evaluates the models trained with each set of hyperparameters. Random search is more efficient than grid search when the search space is large and it doesn't require exhaustive evaluation of all combinations.\n",
    "4. Bayesian optimization: Bayesian optimization is an advanced technique that uses probabilistic models to predict the performance of different hyperparameter settings. It iteratively explores the search space by evaluating a few carefully selected points and updating the probabilistic model. Bayesian optimization can be more efficient than random search or grid search when the search space is large and expensive to evaluate.\n",
    "5. Automated techniques: There are automated hyperparameter tuning techniques like genetic algorithms, evolutionary algorithms, and reinforcement learning-based approaches that aim to optimize hyperparameters automatically. These techniques use optimization algorithms to search the hyperparameter space based on fitness evaluation.\n",
    "\n",
    "During hyperparameter tuning, it is common to use evaluation metrics such as accuracy, precision, recall, or mean squared error to assess the performance of the models trained with different hyperparameter values.\n",
    "\n",
    "By tuning hyperparameters effectively, you can improve the performance and generalization of your machine learning models, leading to better results on unseen data. Experiment tracking tools like TensorBoard can be valuable in this process, as they allow you to monitor and compare the performance of different hyperparameter settings over time.\n",
    "\n",
    "For this demonstration we will be using the simple but expensive grid search. In the later blogs I will show you how we can implement the other hyperparameter tuning algorithms. \n",
    "\n",
    "We will use the FashionMNIST dataset and tune the hyperparamters of our custom VGG model using Grid Search. \n",
    "\n",
    "Let's begin."
   ]
  },
  {
   "attachments": {},
   "cell_type": "markdown",
   "metadata": {},
   "source": [
    "## Install and Import Dependencies"
   ]
  },
  {
   "cell_type": "code",
   "execution_count": 1,
   "metadata": {},
   "outputs": [
    {
     "name": "stdout",
     "output_type": "stream",
     "text": [
      "Note: you may need to restart the kernel to use updated packages.\n"
     ]
    }
   ],
   "source": [
    "%pip install -q torchinfo torchmetrics tensorboard"
   ]
  },
  {
   "cell_type": "code",
   "execution_count": 2,
   "metadata": {},
   "outputs": [
    {
     "name": "stderr",
     "output_type": "stream",
     "text": [
      "c:\\Users\\Lenovo\\anaconda3\\envs\\pytorch\\Lib\\site-packages\\tqdm\\auto.py:21: TqdmWarning: IProgress not found. Please update jupyter and ipywidgets. See https://ipywidgets.readthedocs.io/en/stable/user_install.html\n",
      "  from .autonotebook import tqdm as notebook_tqdm\n"
     ]
    }
   ],
   "source": [
    "import torch\n",
    "import torchvision\n",
    "import os\n",
    "from torchvision.transforms import Resize, Compose, ToTensor\n",
    "import matplotlib.pyplot as plt\n",
    "from torchinfo import summary\n",
    "import torchmetrics\n",
    "from tqdm.auto import tqdm\n",
    "from torch.utils.tensorboard import SummaryWriter\n",
    "\n",
    "device = \"cuda\" if torch.cuda.is_available() else \"cpu\""
   ]
  },
  {
   "attachments": {},
   "cell_type": "markdown",
   "metadata": {},
   "source": [
    "## Load the Dataset and Dataloader"
   ]
  },
  {
   "cell_type": "code",
   "execution_count": 5,
   "metadata": {},
   "outputs": [],
   "source": [
    "BATCH_SIZE = 32\n",
    "\n",
    "if not os.path.exists(\"data\"): os.mkdir(\"data\")\n",
    "\n",
    "train_transform = Compose([Resize((64,64)),\n",
    "                           ToTensor()\n",
    "                           ])\n",
    "test_transform = Compose([Resize((64,64)),\n",
    "                          ToTensor()\n",
    "                          ])\n",
    "\n",
    "\n",
    "training_dataset = torchvision.datasets.FashionMNIST(root = \"data\",\n",
    "                                                     download = True,\n",
    "                                                     train = True,\n",
    "                                                     transform = train_transform)\n",
    "\n",
    "test_dataset = torchvision.datasets.FashionMNIST(root = \"data\",\n",
    "                                                 download = True,\n",
    "                                                 train = False,\n",
    "                                                 transform = test_transform)\n",
    "\n",
    "train_dataloader = torch.utils.data.DataLoader(training_dataset,\n",
    "                                          batch_size=BATCH_SIZE,\n",
    "                                          shuffle=True,\n",
    "                                          )\n",
    "\n",
    "test_dataloader = torch.utils.data.DataLoader(test_dataset,\n",
    "                                              batch_size = BATCH_SIZE,\n",
    "                                              shuffle = False,\n",
    "                                              )"
   ]
  },
  {
   "attachments": {},
   "cell_type": "markdown",
   "metadata": {},
   "source": [
    "Let us see how many examples are there in the training set and the test set"
   ]
  },
  {
   "cell_type": "code",
   "execution_count": 6,
   "metadata": {},
   "outputs": [
    {
     "name": "stdout",
     "output_type": "stream",
     "text": [
      "Number of Images in test dataset is 10000\n",
      "Number of Images in training dataset is 60000\n"
     ]
    }
   ],
   "source": [
    "print(f\"Number of Images in test dataset is {len(test_dataset)}\")\n",
    "print(f\"Number of Images in training dataset is {len(training_dataset)}\")"
   ]
  },
  {
   "cell_type": "code",
   "execution_count": 8,
   "metadata": {},
   "outputs": [
    {
     "data": {
      "text/plain": [
       "<matplotlib.image.AxesImage at 0x20d5921d7d0>"
      ]
     },
     "execution_count": 8,
     "metadata": {},
     "output_type": "execute_result"
    },
    {
     "data": {
      "image/png": "[encoded data removed]",
      "text/plain": [
       "<Figure size 640x480 with 1 Axes>"
      ]
     },
     "metadata": {},
     "output_type": "display_data"
    }
   ],
   "source": [
    "plt.imshow(training_dataset[0][0].permute((1,2,0)), cmap = \"gray\")"
   ]
  },
  {
   "attachments": {},
   "cell_type": "markdown",
   "metadata": {},
   "source": [
    "## Create a TinyVGG Model"
   ]
  },
  {
   "cell_type": "code",
   "execution_count": 10,
   "metadata": {},
   "outputs": [],
   "source": [
    "class TinyVGG(torch.nn.Module):\n",
    "  def __init__(self, in_channels, n_classes, hidden_units, n_conv_blocks, dropout):\n",
    "    super().__init__()\n",
    "    self.in_channels = in_channels\n",
    "    self.out_features = n_classes\n",
    "    self.dropout = dropout\n",
    "    self.hidden_units = hidden_units\n",
    "\n",
    "    self.input_block = torch.nn.Sequential(\n",
    "        torch.nn.Conv2d(in_channels = in_channels,\n",
    "                        out_channels=hidden_units,\n",
    "                        kernel_size = 3,\n",
    "                        padding = 0,\n",
    "                        stride = 1),\n",
    "        torch.nn.Dropout(dropout),\n",
    "        torch.nn.ReLU(),\n",
    "    )\n",
    "\n",
    "    self.conv_block = torch.nn.Sequential(\n",
    "        torch.nn.Conv2d(in_channels = hidden_units,\n",
    "                        out_channels = hidden_units,\n",
    "                        kernel_size = 3,\n",
    "                        padding = 0,\n",
    "                        stride = 1),\n",
    "        torch.nn.Dropout(dropout),\n",
    "        torch.nn.ReLU(),\n",
    "        torch.nn.MaxPool2d(kernel_size = 2, stride = 2)\n",
    "    )\n",
    "\n",
    "    self.classifier = torch.nn.Sequential(torch.nn.Flatten(),\n",
    "                                          torch.nn.LazyLinear(\n",
    "                                                          out_features = n_classes))\n",
    "\n",
    "    self.vgg_block = torch.nn.Sequential(self.input_block,\n",
    "                                         *[self.conv_block for _ in range(n_conv_blocks)],\n",
    "                                         self.classifier)\n",
    "\n",
    "  def forward(self, x):\n",
    "    return self.vgg_block(x)"
   ]
  },
  {
   "cell_type": "code",
   "execution_count": 11,
   "metadata": {},
   "outputs": [
    {
     "name": "stderr",
     "output_type": "stream",
     "text": [
      "c:\\Users\\Lenovo\\anaconda3\\envs\\pytorch\\Lib\\site-packages\\torch\\nn\\modules\\lazy.py:180: UserWarning: Lazy modules are a new feature under heavy development so changes to the API or functionality can happen at any moment.\n",
      "  warnings.warn('Lazy modules are a new feature under heavy development '\n"
     ]
    },
    {
     "data": {
      "text/plain": [
       "==========================================================================================\n",
       "Layer (type:depth-idx)                   Output Shape              Param #\n",
       "==========================================================================================\n",
       "TinyVGG                                  [1, 10]                   --\n",
       "├─Sequential: 1-1                        [1, 10]                   --\n",
       "│    └─Sequential: 2-1                   [1, 16, 62, 62]           --\n",
       "│    │    └─Conv2d: 3-1                  [1, 16, 62, 62]           160\n",
       "│    │    └─Dropout: 3-2                 [1, 16, 62, 62]           --\n",
       "│    │    └─ReLU: 3-3                    [1, 16, 62, 62]           --\n",
       "│    └─Sequential: 2-2                   [1, 16, 30, 30]           --\n",
       "│    │    └─Conv2d: 3-4                  [1, 16, 60, 60]           2,320\n",
       "│    │    └─Dropout: 3-5                 [1, 16, 60, 60]           --\n",
       "│    │    └─ReLU: 3-6                    [1, 16, 60, 60]           --\n",
       "│    │    └─MaxPool2d: 3-7               [1, 16, 30, 30]           --\n",
       "│    └─Sequential: 2-3                   [1, 16, 14, 14]           (recursive)\n",
       "│    │    └─Conv2d: 3-8                  [1, 16, 28, 28]           (recursive)\n",
       "│    │    └─Dropout: 3-9                 [1, 16, 28, 28]           --\n",
       "│    │    └─ReLU: 3-10                   [1, 16, 28, 28]           --\n",
       "│    │    └─MaxPool2d: 3-11              [1, 16, 14, 14]           --\n",
       "│    └─Sequential: 2-4                   [1, 16, 6, 6]             (recursive)\n",
       "│    │    └─Conv2d: 3-12                 [1, 16, 12, 12]           (recursive)\n",
       "│    │    └─Dropout: 3-13                [1, 16, 12, 12]           --\n",
       "│    │    └─ReLU: 3-14                   [1, 16, 12, 12]           --\n",
       "│    │    └─MaxPool2d: 3-15              [1, 16, 6, 6]             --\n",
       "│    └─Sequential: 2-5                   [1, 10]                   --\n",
       "│    │    └─Flatten: 3-16                [1, 576]                  --\n",
       "│    │    └─Linear: 3-17                 [1, 10]                   5,770\n",
       "==========================================================================================\n",
       "Total params: 8,250\n",
       "Trainable params: 8,250\n",
       "Non-trainable params: 0\n",
       "Total mult-adds (Units.MEGABYTES): 11.13\n",
       "==========================================================================================\n",
       "Input size (MB): 0.02\n",
       "Forward/backward pass size (MB): 1.07\n",
       "Params size (MB): 0.03\n",
       "Estimated Total Size (MB): 1.12\n",
       "=========================================================================================="
      ]
     },
     "execution_count": 11,
     "metadata": {},
     "output_type": "execute_result"
    }
   ],
   "source": [
    "model =  TinyVGG(in_channels = 1,\n",
    "                 n_classes = len(training_dataset.classes),\n",
    "                 hidden_units = 16,\n",
    "                 n_conv_blocks = 3,\n",
    "                 dropout = 0.1).to(device)\n",
    "summary(model, [1,64,64], batch_dim = 1)"
   ]
  },
  {
   "cell_type": "code",
   "execution_count": null,
   "metadata": {},
   "outputs": [],
   "source": [
    "optimizer = torch.optim.Adam(params = model.parameters(), lr = 0.001)\n",
    "criterion = torch.nn.CrossEntropyLoss()"
   ]
  },
  {
   "attachments": {},
   "cell_type": "markdown",
   "metadata": {},
   "source": [
    "Here, there are several hyperparameters as you can see - Learning Rate, Number of Epochs, type of optimizer, number of convolution layers, dropout and number of hidden units. We can first fix the learning rate and number of epoch and try to find the best optimizer, convolution layers, dropout and hidden units. Once we have those we can then tune the number of epochs and learning rate. "
   ]
  },
  {
   "cell_type": "code",
   "execution_count": 14,
   "metadata": {},
   "outputs": [],
   "source": [
    "hparams_config = {\n",
    "    \"n_conv_layers\" : [2, 4, 6],\n",
    "    \"dropout\": [0.1, 0.2],\n",
    "    \"optimizer\": ['adam', 'sgd'],\n",
    "    \"hidden_units\": [8, 10, 12, 16]\n",
    "}\n",
    "\n",
    "EPOCHS = 4\n",
    "LEARNING_RATE = 0.001"
   ]
  },
  {
   "cell_type": "code",
   "execution_count": 15,
   "metadata": {},
   "outputs": [
    {
     "name": "stdout",
     "output_type": "stream",
     "text": [
      "Tuning HyperParameters || Number of Conv Layers: 2 || Dropout: 0.1 || Optimizer: adam || Hidden Units: 8\n",
      "Tuning HyperParameters || Number of Conv Layers: 2 || Dropout: 0.1 || Optimizer: adam || Hidden Units: 10\n",
      "Tuning HyperParameters || Number of Conv Layers: 2 || Dropout: 0.1 || Optimizer: adam || Hidden Units: 12\n",
      "Tuning HyperParameters || Number of Conv Layers: 2 || Dropout: 0.1 || Optimizer: adam || Hidden Units: 16\n",
      "Tuning HyperParameters || Number of Conv Layers: 2 || Dropout: 0.1 || Optimizer: sgd || Hidden Units: 8\n",
      "Tuning HyperParameters || Number of Conv Layers: 2 || Dropout: 0.1 || Optimizer: sgd || Hidden Units: 10\n",
      "Tuning HyperParameters || Number of Conv Layers: 2 || Dropout: 0.1 || Optimizer: sgd || Hidden Units: 12\n",
      "Tuning HyperParameters || Number of Conv Layers: 2 || Dropout: 0.1 || Optimizer: sgd || Hidden Units: 16\n",
      "Tuning HyperParameters || Number of Conv Layers: 2 || Dropout: 0.2 || Optimizer: adam || Hidden Units: 8\n",
      "Tuning HyperParameters || Number of Conv Layers: 2 || Dropout: 0.2 || Optimizer: adam || Hidden Units: 10\n",
      "Tuning HyperParameters || Number of Conv Layers: 2 || Dropout: 0.2 || Optimizer: adam || Hidden Units: 12\n",
      "Tuning HyperParameters || Number of Conv Layers: 2 || Dropout: 0.2 || Optimizer: adam || Hidden Units: 16\n",
      "Tuning HyperParameters || Number of Conv Layers: 2 || Dropout: 0.2 || Optimizer: sgd || Hidden Units: 8\n",
      "Tuning HyperParameters || Number of Conv Layers: 2 || Dropout: 0.2 || Optimizer: sgd || Hidden Units: 10\n",
      "Tuning HyperParameters || Number of Conv Layers: 2 || Dropout: 0.2 || Optimizer: sgd || Hidden Units: 12\n",
      "Tuning HyperParameters || Number of Conv Layers: 2 || Dropout: 0.2 || Optimizer: sgd || Hidden Units: 16\n",
      "Tuning HyperParameters || Number of Conv Layers: 4 || Dropout: 0.1 || Optimizer: adam || Hidden Units: 8\n",
      "Tuning HyperParameters || Number of Conv Layers: 4 || Dropout: 0.1 || Optimizer: adam || Hidden Units: 10\n",
      "Tuning HyperParameters || Number of Conv Layers: 4 || Dropout: 0.1 || Optimizer: adam || Hidden Units: 12\n",
      "Tuning HyperParameters || Number of Conv Layers: 4 || Dropout: 0.1 || Optimizer: adam || Hidden Units: 16\n",
      "Tuning HyperParameters || Number of Conv Layers: 4 || Dropout: 0.1 || Optimizer: sgd || Hidden Units: 8\n",
      "Tuning HyperParameters || Number of Conv Layers: 4 || Dropout: 0.1 || Optimizer: sgd || Hidden Units: 10\n",
      "Tuning HyperParameters || Number of Conv Layers: 4 || Dropout: 0.1 || Optimizer: sgd || Hidden Units: 12\n",
      "Tuning HyperParameters || Number of Conv Layers: 4 || Dropout: 0.1 || Optimizer: sgd || Hidden Units: 16\n",
      "Tuning HyperParameters || Number of Conv Layers: 4 || Dropout: 0.2 || Optimizer: adam || Hidden Units: 8\n",
      "Tuning HyperParameters || Number of Conv Layers: 4 || Dropout: 0.2 || Optimizer: adam || Hidden Units: 10\n",
      "Tuning HyperParameters || Number of Conv Layers: 4 || Dropout: 0.2 || Optimizer: adam || Hidden Units: 12\n",
      "Tuning HyperParameters || Number of Conv Layers: 4 || Dropout: 0.2 || Optimizer: adam || Hidden Units: 16\n",
      "Tuning HyperParameters || Number of Conv Layers: 4 || Dropout: 0.2 || Optimizer: sgd || Hidden Units: 8\n",
      "Tuning HyperParameters || Number of Conv Layers: 4 || Dropout: 0.2 || Optimizer: sgd || Hidden Units: 10\n",
      "Tuning HyperParameters || Number of Conv Layers: 4 || Dropout: 0.2 || Optimizer: sgd || Hidden Units: 12\n",
      "Tuning HyperParameters || Number of Conv Layers: 4 || Dropout: 0.2 || Optimizer: sgd || Hidden Units: 16\n",
      "Tuning HyperParameters || Number of Conv Layers: 6 || Dropout: 0.1 || Optimizer: adam || Hidden Units: 8\n",
      "Tuning HyperParameters || Number of Conv Layers: 6 || Dropout: 0.1 || Optimizer: adam || Hidden Units: 10\n",
      "Tuning HyperParameters || Number of Conv Layers: 6 || Dropout: 0.1 || Optimizer: adam || Hidden Units: 12\n",
      "Tuning HyperParameters || Number of Conv Layers: 6 || Dropout: 0.1 || Optimizer: adam || Hidden Units: 16\n",
      "Tuning HyperParameters || Number of Conv Layers: 6 || Dropout: 0.1 || Optimizer: sgd || Hidden Units: 8\n",
      "Tuning HyperParameters || Number of Conv Layers: 6 || Dropout: 0.1 || Optimizer: sgd || Hidden Units: 10\n",
      "Tuning HyperParameters || Number of Conv Layers: 6 || Dropout: 0.1 || Optimizer: sgd || Hidden Units: 12\n",
      "Tuning HyperParameters || Number of Conv Layers: 6 || Dropout: 0.1 || Optimizer: sgd || Hidden Units: 16\n",
      "Tuning HyperParameters || Number of Conv Layers: 6 || Dropout: 0.2 || Optimizer: adam || Hidden Units: 8\n",
      "Tuning HyperParameters || Number of Conv Layers: 6 || Dropout: 0.2 || Optimizer: adam || Hidden Units: 10\n",
      "Tuning HyperParameters || Number of Conv Layers: 6 || Dropout: 0.2 || Optimizer: adam || Hidden Units: 12\n",
      "Tuning HyperParameters || Number of Conv Layers: 6 || Dropout: 0.2 || Optimizer: adam || Hidden Units: 16\n",
      "Tuning HyperParameters || Number of Conv Layers: 6 || Dropout: 0.2 || Optimizer: sgd || Hidden Units: 8\n",
      "Tuning HyperParameters || Number of Conv Layers: 6 || Dropout: 0.2 || Optimizer: sgd || Hidden Units: 10\n",
      "Tuning HyperParameters || Number of Conv Layers: 6 || Dropout: 0.2 || Optimizer: sgd || Hidden Units: 12\n",
      "Tuning HyperParameters || Number of Conv Layers: 6 || Dropout: 0.2 || Optimizer: sgd || Hidden Units: 16\n"
     ]
    }
   ],
   "source": [
    "for n_conv_layers in hparams_config[\"n_conv_layers\"]:\n",
    "    for dropout in hparams_config[\"dropout\"]:\n",
    "        for optimizer in hparams_config[\"optimizer\"]:\n",
    "            for hidden_units in hparams_config[\"hidden_units\"]:\n",
    "                print(\n",
    "                    f\"Tuning HyperParameters || Number of Conv Layers: {n_conv_layers} || Dropout: {dropout} || Optimizer: {optimizer} || Hidden Units: {hidden_units}\"\n",
    "                )"
   ]
  }
 ],
 "metadata": {
  "kernelspec": {
   "display_name": "pytorch",
   "language": "python",
   "name": "python3"
  },
  "language_info": {
   "codemirror_mode": {
    "name": "ipython",
    "version": 3
   },
   "file_extension": ".py",
   "mimetype": "text/x-python",
   "name": "python",
   "nbconvert_exporter": "python",
   "pygments_lexer": "ipython3",
   "version": "3.11.2"
  },
  "orig_nbformat": 4
 },
 "nbformat": 4,
 "nbformat_minor": 2
}
